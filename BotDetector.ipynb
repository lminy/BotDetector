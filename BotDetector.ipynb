{
 "cells": [
  {
   "cell_type": "markdown",
   "metadata": {},
   "source": [
    "# BotDetector"
   ]
  },
  {
   "cell_type": "markdown",
   "metadata": {},
   "source": [
    "## Imports"
   ]
  },
  {
   "cell_type": "code",
   "execution_count": 37,
   "metadata": {},
   "outputs": [],
   "source": [
    "import numpy as np"
   ]
  },
  {
   "cell_type": "code",
   "execution_count": 18,
   "metadata": {},
   "outputs": [],
   "source": [
    "features_file = \"features.json\"\n",
    "features_name_file = \"features_name.json\"\n",
    "target_file = \"target.json\""
   ]
  },
  {
   "cell_type": "markdown",
   "metadata": {},
   "source": [
    "## Load features"
   ]
  },
  {
   "cell_type": "code",
   "execution_count": 20,
   "metadata": {},
   "outputs": [
    {
     "name": "stdout",
     "output_type": "stream",
     "text": [
      "# of features: 1950\n",
      "features name: ['has_name', 'has_image', 'has_address', 'has_biography', 'followers_ge_30', 'belongs_to_a_list', 'nb_tweets_ge_50', 'url_in_profile', 'followers_2_times_ge_friends', 'bot_in_biography', 'ratio_friends_followers_around_100', 'duplicate_profile_picture', 'ratio_friends_followers_ge_50', 'default_image_after_2_month', 'friends_ge_100', 'no_bio', 'no_location', 'no_tweets', 'nb_friends', 'nb_tweets', 'ratio_friends_followers_square', 'age', 'following_rate']\n"
     ]
    }
   ],
   "source": [
    "import json\n",
    "with open(features_file, 'r') as f :\n",
    "    X = json.loads(f.read())\n",
    "with open(target_file, 'r') as f :\n",
    "    y = json.loads(f.read())\n",
    "with open(features_name_file, 'r') as f :\n",
    "    features_name = json.loads(f.read())\n",
    "print(\"# of features: \" + str(len(X)))\n",
    "print(\"features name: \" + str(features_name))"
   ]
  },
  {
   "cell_type": "code",
   "execution_count": 32,
   "metadata": {},
   "outputs": [],
   "source": [
    "# Divise dataset\n",
    "def divide_dataset(X, y) :\n",
    "    from sklearn.model_selection import train_test_split\n",
    "    X_train, X_test, y_train, y_test = train_test_split(X, y, test_size=0.33, random_state=42)\n",
    "    return (X_train, X_test, y_train, y_test)\n",
    "\n",
    "X_train, X_test, y_train, y_test = divide_dataset(X, y)"
   ]
  },
  {
   "cell_type": "markdown",
   "metadata": {},
   "source": [
    "## Supervised Learning"
   ]
  },
  {
   "cell_type": "code",
   "execution_count": 40,
   "metadata": {},
   "outputs": [],
   "source": [
    "from sklearn.model_selection import GridSearchCV\n",
    "from sklearn import tree\n",
    "from sklearn.neighbors import KNeighborsClassifier\n",
    "from sklearn import svm\n",
    "from sklearn.naive_bayes import MultinomialNB\n",
    "from sklearn.naive_bayes import BernoulliNB\n",
    "from sklearn.naive_bayes import GaussianNB\n",
    "from sklearn.metrics import confusion_matrix"
   ]
  },
  {
   "cell_type": "code",
   "execution_count": 22,
   "metadata": {},
   "outputs": [],
   "source": [
    "results = dict()"
   ]
  },
  {
   "cell_type": "code",
   "execution_count": 23,
   "metadata": {},
   "outputs": [],
   "source": [
    "import time\n",
    "import datetime\n",
    "def train(classifier, name, param_grid=None) :\n",
    "    start_time = time.time()\n",
    "    if param_grid == None :\n",
    "        classifier.fit(X_train, y_train)\n",
    "        results[name] = dict(model=classifier)\n",
    "    else :\n",
    "        grid = GridSearchCV(classifier, param_grid, cv=10, scoring='accuracy', n_jobs=2) # Do a 10-fold cross validation\n",
    "        grid.fit(X, y) # fit the grid with data\n",
    "        results[name] = dict(grid=grid, model=classifier)\n",
    "    #total_time = datetime.datetime.fromtimestamp(time.time() - start_time)\n",
    "    total_time = datetime.timedelta(seconds=time.time() - start_time)\n",
    "    print(\"Training time : \" + str(total_time))#.strftime('%H:%M:%S'))"
   ]
  },
  {
   "cell_type": "markdown",
   "metadata": {},
   "source": [
    "## k-NN Classifier"
   ]
  },
  {
   "cell_type": "code",
   "execution_count": 25,
   "metadata": {},
   "outputs": [
    {
     "name": "stdout",
     "output_type": "stream",
     "text": [
      "Training time : 0:00:05.815309\n"
     ]
    }
   ],
   "source": [
    "name = \"k-NN\"\n",
    "classifier = KNeighborsClassifier(weights='uniform')\n",
    "k_range = list(range(1, 31)) # list of parameter values to test\n",
    "param_grid = dict(n_neighbors=k_range)\n",
    "train(classifier, name, param_grid)"
   ]
  },
  {
   "cell_type": "markdown",
   "metadata": {},
   "source": [
    "## Decision Tree"
   ]
  },
  {
   "cell_type": "code",
   "execution_count": 26,
   "metadata": {},
   "outputs": [
    {
     "name": "stdout",
     "output_type": "stream",
     "text": [
      "Training time : 0:00:04.462364\n"
     ]
    }
   ],
   "source": [
    "name = \"Decision tree\"\n",
    "classifier = tree.DecisionTreeClassifier(criterion='entropy')\n",
    "d_range = list(range(1, 31)) # list of parameter values to test\n",
    "#s_range = list(range(2, 10))\n",
    "param_grid = dict(max_depth=d_range)#, min_samples_split=s_range)\n",
    "train(classifier, name, param_grid)"
   ]
  },
  {
   "cell_type": "markdown",
   "metadata": {},
   "source": [
    "## Naive Bayes"
   ]
  },
  {
   "cell_type": "code",
   "execution_count": 33,
   "metadata": {},
   "outputs": [
    {
     "name": "stdout",
     "output_type": "stream",
     "text": [
      "Training time : 0:00:00.012821\n"
     ]
    }
   ],
   "source": [
    "name = \"Naive Bayes - Gaussian\"\n",
    "classifier = GaussianNB()\n",
    "train(classifier, name)"
   ]
  },
  {
   "cell_type": "code",
   "execution_count": 34,
   "metadata": {},
   "outputs": [
    {
     "name": "stdout",
     "output_type": "stream",
     "text": [
      "Training time : 0:00:00.020107\n"
     ]
    }
   ],
   "source": [
    "name = \"Naive Bayes - Multinomial\"\n",
    "classifier = MultinomialNB()\n",
    "train(classifier, name)"
   ]
  },
  {
   "cell_type": "code",
   "execution_count": 35,
   "metadata": {},
   "outputs": [
    {
     "name": "stdout",
     "output_type": "stream",
     "text": [
      "Training time : 0:00:00.008154\n"
     ]
    }
   ],
   "source": [
    "name = \"Naive Bayes - Bernoulli\"\n",
    "classifier = BernoulliNB()\n",
    "train(classifier, name)"
   ]
  },
  {
   "cell_type": "markdown",
   "metadata": {},
   "source": [
    "## SVM - Support Vector Machine"
   ]
  },
  {
   "cell_type": "code",
   "execution_count": null,
   "metadata": {},
   "outputs": [],
   "source": [
    "name = \"SVM - SVC\"\n",
    "classifier = svm.SVC()\n",
    "C_range = np.logspace(-2, 10, 13)\n",
    "print(C_range)\n",
    "gamma_range = np.logspace(-9, 3, 13)\n",
    "print(gamma_range)\n",
    "param_grid = dict(gamma=gamma_range, C=C_range)\n",
    "train(classifier, name, param_grid)"
   ]
  },
  {
   "cell_type": "code",
   "execution_count": null,
   "metadata": {},
   "outputs": [],
   "source": [
    "name = \"SVM - Linear\"\n",
    "classifier = svm.LinearSVC()\n",
    "C_range = range(170,230,5)\n",
    "C_range = range(1,200,10)\n",
    "param_grid = dict(C=C_range)\n",
    "train(classifier, name, param_grid)"
   ]
  },
  {
   "cell_type": "markdown",
   "metadata": {},
   "source": [
    "## Score Summary"
   ]
  },
  {
   "cell_type": "code",
   "execution_count": 41,
   "metadata": {},
   "outputs": [
    {
     "name": "stdout",
     "output_type": "stream",
     "text": [
      "+---------------------------+------------+--------------------+----+----+\n",
      "|           Model           | Best score |    Best params     | FP | TN |\n",
      "+---------------------------+------------+--------------------+----+----+\n",
      "|       Decision tree       |    0.98    |  {'max_depth': 4}  | 10 | 8  |\n",
      "|  Naive Bayes - Bernoulli  |   0.927    |        None        | 16 | 31 |\n",
      "| Naive Bayes - Multinomial |   0.8463   |        None        | 13 | 86 |\n",
      "|   Naive Bayes - Gaussian  |   0.8276   |        None        | 23 | 88 |\n",
      "|            k-NN           |   0.8267   | {'n_neighbors': 8} | 92 | 29 |\n",
      "+---------------------------+------------+--------------------+----+----+\n"
     ]
    }
   ],
   "source": [
    "from prettytable import PrettyTable\n",
    "import operator\n",
    "t = PrettyTable(['Model', 'Best score', 'Best params', 'FP', 'TN'])\n",
    "for clf_name, result in results.items() :\n",
    "    model = result['model']\n",
    "    if 'grid' in result :\n",
    "        grid = result['grid']\n",
    "        # Compute false positives and false negatives\n",
    "        model.__init__(**grid.best_params_)\n",
    "        model.fit(X_train, y_train)\n",
    "        y_pred = model.predict(X_test)\n",
    "        cm = confusion_matrix(y_test, y_pred)\n",
    "        fp = cm[1,0]\n",
    "        tn = cm[0,1]\n",
    "        \n",
    "        t.add_row([clf_name, round(grid.best_score_, 4), grid.best_params_, fp, tn])\n",
    "        #print(result.best_estimator_)\n",
    "    else : # For non grid_search models\n",
    "        #training_error = clf.score(X_train, y_train)\n",
    "        test_error = model.score(X_test, y_test)\n",
    "        \n",
    "        # Compute false positives and false negatives\n",
    "        y_pred = model.predict(X_test)\n",
    "        cm = confusion_matrix(y_test, y_pred)\n",
    "        fp = cm[1,0]\n",
    "        tn = cm[0,1]\n",
    "        t.add_row([clf_name, round(test_error, 4), None, fp, tn])\n",
    "        \n",
    "print(t.get_string(sort_key=operator.itemgetter(2, 1), sortby=\"Best score\", reversesort=True))"
   ]
  }
 ],
 "metadata": {
  "kernelspec": {
   "display_name": "Python 3",
   "language": "python",
   "name": "python3"
  },
  "language_info": {
   "codemirror_mode": {
    "name": "ipython",
    "version": 3
   },
   "file_extension": ".py",
   "mimetype": "text/x-python",
   "name": "python",
   "nbconvert_exporter": "python",
   "pygments_lexer": "ipython3",
   "version": "3.6.3"
  }
 },
 "nbformat": 4,
 "nbformat_minor": 2
}
