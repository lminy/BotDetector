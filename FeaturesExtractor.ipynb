{
 "cells": [
  {
   "cell_type": "markdown",
   "metadata": {},
   "source": [
    "# Features extractor"
   ]
  },
  {
   "cell_type": "markdown",
   "metadata": {},
   "source": [
    "## Imports"
   ]
  },
  {
   "cell_type": "code",
   "execution_count": 47,
   "metadata": {},
   "outputs": [],
   "source": [
    "import pandas as pd\n",
    "import numpy as np\n",
    "import datetime\n",
    "from collections import OrderedDict\n",
    "datasets_fake = [\"FSF\", \"INT\", \"TWT\"]\n",
    "datasets_hum = [\"TFP\", \"E13\"]\n",
    "datasets = datasets_hum + datasets_fake\n",
    "folder_datasets = \"./datasets/\"\n",
    "file_users = \"users.csv\"\n",
    "file_tweets = \"tweets.csv\"\n",
    "file_friends = \"friends.csv\"\n",
    "file_followers = \"followers.csv\"\n",
    "features_file = \"features.json\""
   ]
  },
  {
   "cell_type": "markdown",
   "metadata": {},
   "source": [
    "## Read datasets"
   ]
  },
  {
   "cell_type": "code",
   "execution_count": 5,
   "metadata": {},
   "outputs": [
    {
     "name": "stderr",
     "output_type": "stream",
     "text": [
      "/usr/local/lib/python3.6/site-packages/IPython/core/interactiveshell.py:2728: DtypeWarning: Columns (8) have mixed types. Specify dtype option on import or set low_memory=False.\n",
      "  interactivity=interactivity, compiler=compiler, result=result)\n"
     ]
    }
   ],
   "source": [
    "users = pd.read_csv(folder_datasets + datasets[0] + '/' + file_users)\n",
    "tweets = pd.read_csv(folder_datasets + datasets[0] + '/' + file_tweets)\n",
    "friends = pd.read_csv(folder_datasets + datasets[0] + '/' + file_friends)\n",
    "followers = pd.read_csv(folder_datasets + datasets[0] + '/' + file_followers)\n",
    "for dataset in datasets[1:]:\n",
    "    pd.concat([users, pd.read_csv(folder_datasets + dataset + '/' + file_users)])\n",
    "    pd.concat([users, pd.read_csv(folder_datasets + dataset + '/' + file_tweets)])\n",
    "    pd.concat([users, pd.read_csv(folder_datasets + dataset + '/' + file_friends)])\n",
    "    pd.concat([users, pd.read_csv(folder_datasets + dataset + '/' + file_followers)])\n",
    "    \n",
    "    "
   ]
  },
  {
   "cell_type": "markdown",
   "metadata": {},
   "source": [
    "## Compute features"
   ]
  },
  {
   "cell_type": "code",
   "execution_count": 60,
   "metadata": {},
   "outputs": [
    {
     "name": "stdout",
     "output_type": "stream",
     "text": [
      "TOTAL accounts: 15946\n",
      "[1, 1, 1, 1, 1, 1, 1, 1, 1, 0, 0, 0, 0, 0, 1, 0, 0, 0, 1466, 67089, 5.7370898357435176e-05, 350114046.681935, 7.116335562518837e-06]\n"
     ]
    }
   ],
   "source": [
    "SAMPLE_SIZE = 10\n",
    "total_feat = list()\n",
    "features_name = list()\n",
    "\n",
    "# Compute features for each Twitter account\n",
    "for index, user in users.iterrows():\n",
    "    acc_feat = OrderedDict()\n",
    "    #if index > SAMPLE_SIZE:\n",
    "    #    break\n",
    "    \n",
    "    # Class A (Profile)\n",
    "    #===================\n",
    "    acc_feat['has_name'] = int(user['name'] not in ['NULL', 'NaN', '', ' ', pd.np.nan])\n",
    "    acc_feat['has_image'] = int(user['default_profile_image'] != 1)\n",
    "    acc_feat['has_address'] = int(user['location'] not in ['NULL', 'NaN', '', ' ', pd.np.nan])\n",
    "    acc_feat['has_biography'] = int(user['description'] not in ['NULL', 'NaN', '', ' ', pd.np.nan])\n",
    "    acc_feat['followers_ge_30'] = int(user['followers_count'] >= 30)\n",
    "    acc_feat['belongs_to_a_list'] = int(user['listed_count'] > 0)\n",
    "    acc_feat['nb_tweets_ge_50'] = int(tweets.loc[tweets['user_id'] == user['id']].size >= 50)\n",
    "    acc_feat['url_in_profile'] = int(user['url'] not in ['NULL', 'NaN', '', ' ', pd.np.nan])\n",
    "    acc_feat['followers_2_times_ge_friends'] = int(2 * user['followers_count'] >= user['friends_count'])\n",
    "    \n",
    "    acc_feat['bot_in_biography'] = int(type(user['description']) is str and 'bot' in user['description'].lower())\n",
    "    acc_feat['ratio_friends_followers_around_100'] = int(user['followers_count'] > 0 and 80.0 <= float(user['friends_count']) / user['followers_count'] >= 120.0)\n",
    "    acc_feat['duplicate_profile_picture'] = int(users.loc[users['default_profile_image'] == user['default_profile_image']].size > 1)\n",
    "    \n",
    "    acc_feat['ratio_friends_followers_ge_50'] = int(user['followers_count'] > 0 and float(user['friends_count']) / user['followers_count'] >= 50)\n",
    "    acc_feat['default_image_after_2_month'] = int(user['default_profile_image'] == 1 and (datetime.datetime.now() - datetime.datetime.strptime(user['created_at'],'%a %b %d %H:%M:%S +0000 %Y')) > datetime.timedelta(weeks=4)) \n",
    "    acc_feat['friends_ge_100'] = int(user['friends_count'] >= 100)\n",
    "    acc_feat['no_bio'] = int(user['description'] in ['NULL', 'NaN', '', ' ', pd.np.nan])\n",
    "    acc_feat['no_location'] = int(user['location'] in ['NULL', 'NaN', '', ' ', pd.np.nan])\n",
    "    acc_feat['no_tweets'] = int(tweets.loc[tweets['user_id'] == user['id']].size == 0)\n",
    "    \n",
    "    acc_feat['nb_friends'] = int(user['friends_count'])\n",
    "    acc_feat['nb_tweets'] = int(tweets.loc[tweets['user_id'] == user['id']].size)\n",
    "    acc_feat['ratio_friends_followers_square'] = float(user['friends_count']) / pow(user['followers_count'], 2) if user['followers_count'] > 0 else 0\n",
    "    \n",
    "    acc_feat['age'] = (datetime.datetime.now() - datetime.datetime.strptime(user['created_at'],'%a %b %d %H:%M:%S +0000 %Y')).total_seconds()\n",
    "    acc_feat['following_rate'] = float(user['friends_count']) / age\n",
    "    \n",
    "    total_feat.append(list(acc_feat.values()))\n",
    "    features_name = acc_feat.keys()\n",
    "print(\"TOTAL accounts: \" + str(users.size))\n",
    "#print(\"Features name: \" + str(list(features_name)))\n",
    "print(total_feat[0])"
   ]
  },
  {
   "cell_type": "markdown",
   "metadata": {},
   "source": [
    "## Store features on disk"
   ]
  },
  {
   "cell_type": "code",
   "execution_count": 61,
   "metadata": {},
   "outputs": [],
   "source": [
    "import json\n",
    "with open(features_file, 'w') as dstfile :\n",
    "    json.dump(total_feat, dstfile)"
   ]
  },
  {
   "cell_type": "markdown",
   "metadata": {},
   "source": [
    "## Statistics on dataset"
   ]
  },
  {
   "cell_type": "code",
   "execution_count": 8,
   "metadata": {},
   "outputs": [
    {
     "data": {
      "text/plain": [
       "id                                      0\n",
       "name                                    0\n",
       "screen_name                             0\n",
       "statuses_count                          0\n",
       "followers_count                         0\n",
       "friends_count                           0\n",
       "favourites_count                        0\n",
       "listed_count                            0\n",
       "created_at                              0\n",
       "url                                   235\n",
       "lang                                    0\n",
       "time_zone                             101\n",
       "location                              145\n",
       "default_profile                       314\n",
       "default_profile_image                 454\n",
       "geo_enabled                           230\n",
       "profile_image_url                       0\n",
       "profile_banner_url                    249\n",
       "profile_use_background_image           26\n",
       "profile_background_image_url_https      0\n",
       "profile_text_color                      0\n",
       "profile_image_url_https                 0\n",
       "profile_sidebar_border_color            0\n",
       "profile_background_tile               367\n",
       "profile_sidebar_fill_color              0\n",
       "profile_background_image_url            0\n",
       "profile_background_color                0\n",
       "profile_link_color                      0\n",
       "utc_offset                            101\n",
       "protected                             469\n",
       "verified                              469\n",
       "description                           125\n",
       "updated                                 0\n",
       "dataset                                 0\n",
       "dtype: int64"
      ]
     },
     "execution_count": 8,
     "metadata": {},
     "output_type": "execute_result"
    }
   ],
   "source": [
    "users.isnull().sum()"
   ]
  }
 ],
 "metadata": {
  "kernelspec": {
   "display_name": "Python 3",
   "language": "python",
   "name": "python3"
  },
  "language_info": {
   "codemirror_mode": {
    "name": "ipython",
    "version": 3
   },
   "file_extension": ".py",
   "mimetype": "text/x-python",
   "name": "python",
   "nbconvert_exporter": "python",
   "pygments_lexer": "ipython3",
   "version": "3.6.3"
  }
 },
 "nbformat": 4,
 "nbformat_minor": 2
}
