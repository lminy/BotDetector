{
 "cells": [
  {
   "cell_type": "markdown",
   "metadata": {},
   "source": [
    "# Features extractor"
   ]
  },
  {
   "cell_type": "markdown",
   "metadata": {},
   "source": [
    "## Read datasets"
   ]
  },
  {
   "cell_type": "code",
   "execution_count": 1,
   "metadata": {},
   "outputs": [],
   "source": [
    "import pandas as pd\n",
    "import numpy as np\n",
    "import datetime\n",
    "import config as c\n",
    "from collections import OrderedDict"
   ]
  },
  {
   "cell_type": "code",
   "execution_count": 2,
   "metadata": {},
   "outputs": [],
   "source": [
    "compute_only_class_a = True\n",
    "datasets_fake = [\"FSF\", \"INT\", \"TWT\"]\n",
    "datasets_hum = [\"TFP\", \"E13\"]\n",
    "datasets = datasets_hum + datasets_fake"
   ]
  },
  {
   "cell_type": "code",
   "execution_count": null,
   "metadata": {},
   "outputs": [],
   "source": [
    "users = pd.read_csv(c.folder_datasets + datasets[0] + '/' + c.file_users)\n",
    "tweets = pd.read_csv(c.folder_datasets + datasets[0] + '/' + c.file_tweets, dtype={\"geo\": str})\n",
    "friends = pd.read_csv(c.folder_datasets + datasets[0] + '/' + c.file_friends)\n",
    "followers = pd.read_csv(c.folder_datasets + datasets[0] + '/' + c.file_followers)\n",
    "for dataset in datasets[1:]:\n",
    "    users = pd.concat([users, pd.read_csv(c.folder_datasets + dataset + '/' + c.file_users)])\n",
    "    tweets = pd.concat([tweets, pd.read_csv(c.folder_datasets + dataset + '/' + c.file_tweets, dtype={\"geo\": str})])\n",
    "    friends = pd.concat([friends, pd.read_csv(c.folder_datasets + dataset + '/' + c.file_friends)])\n",
    "    followers = pd.concat([followers, pd.read_csv(c.folder_datasets + dataset + '/' + c.file_followers)])  "
   ]
  },
  {
   "cell_type": "markdown",
   "metadata": {},
   "source": [
    "## Compute features"
   ]
  },
  {
   "cell_type": "code",
   "execution_count": 6,
   "metadata": {},
   "outputs": [],
   "source": [
    "def is_from_web():\n",
    "    for n in tweets.source.unique():\n",
    "        for src in [\"iphone\", \"android\", \"foursquare\", \"instagram\", \"web\"]:\n",
    "            if src in n.lower():\n",
    "                return 1\n",
    "    return 0\n",
    "\n",
    "import string\n",
    "def use_ponctuation(user_id):\n",
    "    # If one tweets use ponctuation return 1\n",
    "    user_tweets = tweets.loc[tweets['user_id'] == user['id'], 'text']\n",
    "    for tweet in user_tweets:\n",
    "        for c in tweet:\n",
    "            # See if the char is punctuation.\n",
    "            if c in string.punctuation:\n",
    "                return 1\n",
    "        return 0\n"
   ]
  },
  {
   "cell_type": "code",
   "execution_count": 31,
   "metadata": {},
   "outputs": [
    {
     "name": "stdout",
     "output_type": "stream",
     "text": [
      "Feature computation time : 0:01:35.151358\n"
     ]
    }
   ],
   "source": [
    "import time\n",
    "import datetime\n",
    "start_time = time.time()\n",
    "SAMPLE_SIZE = 100\n",
    "X = list()\n",
    "y = list()\n",
    "features_name = list()\n",
    "nb_fake_acc =0\n",
    "# Compute features for each Twitter account\n",
    "for index, user in users.iterrows():\n",
    "    acc_feat = OrderedDict()\n",
    "    #if index > SAMPLE_SIZE:\n",
    "    #    break\n",
    "    \n",
    "    # Class A (Profile)\n",
    "    #===================\n",
    "    acc_feat['has_name'] = int(user['name'] not in ['NULL', 'NaN', '', ' ', pd.np.nan])\n",
    "    acc_feat['has_image'] = int(user['default_profile_image'] != 1)\n",
    "    acc_feat['has_address'] = int(user['location'] not in ['NULL', 'NaN', '', ' ', pd.np.nan])\n",
    "    acc_feat['has_biography'] = int(user['description'] not in ['NULL', 'NaN', '', ' ', pd.np.nan])\n",
    "    acc_feat['followers_ge_30'] = int(user['followers_count'] >= 30)\n",
    "    acc_feat['belongs_to_a_list'] = int(user['listed_count'] > 0)\n",
    "    acc_feat['nb_tweets_ge_50'] = int(tweets.loc[tweets['user_id'] == user['id']].size >= 50)\n",
    "    acc_feat['url_in_profile'] = int(user['url'] not in ['NULL', 'NaN', '', ' ', pd.np.nan])\n",
    "    acc_feat['followers_2_times_ge_friends'] = int(2 * user['followers_count'] >= user['friends_count'])\n",
    "    \n",
    "    acc_feat['bot_in_biography'] = int(type(user['description']) is str and 'bot' in user['description'].lower())\n",
    "    acc_feat['ratio_friends_followers_around_100'] = int(user['followers_count'] > 0 and 80.0 <= float(user['friends_count']) / user['followers_count'] >= 120.0)\n",
    "    acc_feat['duplicate_profile_picture'] = int(users.loc[users['default_profile_image'] == user['default_profile_image']].size > 1)\n",
    "    \n",
    "    acc_feat['ratio_friends_followers_ge_50'] = int(user['followers_count'] > 0 and float(user['friends_count']) / user['followers_count'] >= 50)\n",
    "    acc_feat['default_image_after_2_month'] = int(user['default_profile_image'] == 1 and (datetime.datetime.now() - datetime.datetime.strptime(user['created_at'],'%a %b %d %H:%M:%S +0000 %Y')) > datetime.timedelta(weeks=4)) \n",
    "    acc_feat['friends_ge_100'] = int(user['friends_count'] >= 100)\n",
    "    acc_feat['no_bio'] = int(user['description'] in ['NULL', 'NaN', '', ' ', pd.np.nan])\n",
    "    acc_feat['no_location'] = int(user['location'] in ['NULL', 'NaN', '', ' ', pd.np.nan])\n",
    "    acc_feat['no_tweets'] = int(tweets.loc[tweets['user_id'] == user['id']].size == 0)\n",
    "    \n",
    "    acc_feat['nb_friends'] = int(user['friends_count'])\n",
    "    acc_feat['nb_tweets'] = int(tweets.loc[tweets['user_id'] == user['id']].size)\n",
    "    acc_feat['ratio_friends_followers_square'] = float(user['friends_count']) / pow(user['followers_count'], 2) if user['followers_count'] > 0 else 0\n",
    "    \n",
    "    acc_feat['age'] = (datetime.datetime.now() - datetime.datetime.strptime(user['created_at'],'%a %b %d %H:%M:%S +0000 %Y')).total_seconds()\n",
    "    acc_feat['following_rate'] = float(user['friends_count']) / acc_feat['age']\n",
    "    \n",
    "    # Class B (Timeline)\n",
    "    #===================\n",
    "    if not compute_only_class_a:\n",
    "        #acc_feat['geo_localized'] = int(tweets.loc[tweets['user_id'] == user['id'] & (tweets['geo'] != '')].size)\n",
    "        #acc_feat['is_favorite'] = int(tweets.loc[tweets['user_id'] == user['id'] & (tweets['favorite_count'] > 0)].size)\n",
    "        #acc_feat['from_web'] = is_from_web()\n",
    "        #acc_feat['use_ponctuation'] = use_ponctuation(user['id'])\n",
    "        \n",
    "        #acc_feat['same_sentence']\n",
    "        acc_feat['from_API'] = tweets.loc[tweets['user_id'] == user['id'] & (tweets['source'] != '<a href=\"http://twitter.com/tweetbutton\" rel=\"nofollow\">Tweet Button</a>')].size > 0\n",
    "        \n",
    "    \n",
    "    target = 1 if user['dataset'] in datasets_fake else 0\n",
    "    nb_fake_acc = nb_fake_acc + target\n",
    "    \n",
    "    y.append(target)\n",
    "    X.append(list(acc_feat.values()))\n",
    "    features_name = list(acc_feat.keys())\n",
    "nb_hum_acc = abs(len(y) - nb_fake_acc)\n",
    "total_time = datetime.timedelta(seconds=time.time() - start_time)\n",
    "print(\"Feature computation time : \" + str(total_time))"
   ]
  },
  {
   "cell_type": "code",
   "execution_count": 8,
   "metadata": {},
   "outputs": [
    {
     "name": "stdout",
     "output_type": "stream",
     "text": [
      "TOTAL accounts: 180234\n",
      "# fake accounts: 3351\n",
      "# human accounts: 1950\n"
     ]
    }
   ],
   "source": [
    "print(\"TOTAL accounts: \" + str(users.size))\n",
    "print(\"# fake accounts: \" + str(nb_fake_acc))\n",
    "print(\"# human accounts: \" + str(nb_hum_acc))\n",
    "#print(\"Features name: \" + str(list(features_name)))\n",
    "#print(X[0])"
   ]
  },
  {
   "cell_type": "code",
   "execution_count": 9,
   "metadata": {},
   "outputs": [
    {
     "name": "stdout",
     "output_type": "stream",
     "text": [
      "1950\n"
     ]
    }
   ],
   "source": [
    "# Shuffle & balance the whole dataset (50-50 human/fake accounts)\n",
    "from sklearn.utils import shuffle\n",
    "X, y = shuffle(X, y)\n",
    "\n",
    "max_sample = min(nb_fake_acc, nb_hum_acc) # max_sample = 1950 in our case\n",
    "X, y = X[:max_sample], y[:max_sample]\n",
    "print(len(y))"
   ]
  },
  {
   "cell_type": "code",
   "execution_count": 47,
   "metadata": {},
   "outputs": [],
   "source": [
    "# Store features on disk\n",
    "import json\n",
    "import os\n",
    "\n",
    "def save_features(folder_features):\n",
    "    with open(folder_features + c.file_features, 'w') as dstfile :\n",
    "        json.dump(X, dstfile)\n",
    "    with open(folder_features + c.file_target, 'w') as dstfile :\n",
    "        json.dump(y, dstfile)\n",
    "    with open(folder_features + c.file_features_name, 'w') as dstfile :\n",
    "        json.dump(features_name, dstfile)\n",
    "        \n",
    "if compute_only_class_a:\n",
    "    try:\n",
    "        os.mkdir(c.folder_class_a)\n",
    "    except FileExistsError :\n",
    "        pass\n",
    "    save_features(c.folder_class_a)\n",
    "else:\n",
    "    try:\n",
    "        os.mkdir(c.folder_class_a_b_c)\n",
    "    except FileExistsError :\n",
    "        pass\n",
    "    save_features(c.folder_class_a_b_c)"
   ]
  },
  {
   "cell_type": "markdown",
   "metadata": {},
   "source": [
    "## Statistics on dataset"
   ]
  },
  {
   "cell_type": "code",
   "execution_count": 33,
   "metadata": {},
   "outputs": [
    {
     "name": "stdout",
     "output_type": "stream",
     "text": [
      "+------------------------------------+--------+--------+--------+--------+--------+\n",
      "|            Feature name            | # val1 | # val2 | # val3 | # val4 | # val5 |\n",
      "+------------------------------------+--------+--------+--------+--------+--------+\n",
      "|              has_name              |  5301  |        |        |        |        |\n",
      "|             has_image              |  5276  |   25   |        |        |        |\n",
      "|            has_address             |  4089  |  1212  |        |        |        |\n",
      "|           has_biography            |  4084  |  1217  |        |        |        |\n",
      "|          followers_ge_30           |  3547  |  1754  |        |        |        |\n",
      "|         belongs_to_a_list          |  4150  |  1151  |        |        |        |\n",
      "|          nb_tweets_ge_50           |  4934  |  367   |        |        |        |\n",
      "|           url_in_profile           |  3166  |  2135  |        |        |        |\n",
      "|    followers_2_times_ge_friends    |  4414  |  887   |        |        |        |\n",
      "|          bot_in_biography          |  5283  |   18   |        |        |        |\n",
      "| ratio_friends_followers_around_100 |  5067  |  234   |        |        |        |\n",
      "|     duplicate_profile_picture      |  5276  |   25   |        |        |        |\n",
      "|   ratio_friends_followers_ge_50    |  4750  |  551   |        |        |        |\n",
      "|    default_image_after_2_month     |  5276  |   25   |        |        |        |\n",
      "|           friends_ge_100           |  4679  |  622   |        |        |        |\n",
      "|               no_bio               |  4084  |  1217  |        |        |        |\n",
      "|            no_location             |  4089  |  1212  |        |        |        |\n",
      "|             no_tweets              |  5148  |  153   |        |        |        |\n",
      "|             nb_friends             |   35   |   30   |   29   |   29   |   29   |\n",
      "|             nb_tweets              |  163   |  153   |  136   |  127   |  124   |\n",
      "|   ratio_friends_followers_square   |   82   |   11   |   7    |   6    |   6    |\n",
      "|                age                 |   1    |   1    |   1    |   1    |   1    |\n",
      "|           following_rate           |   5    |   1    |   1    |   1    |   1    |\n",
      "+------------------------------------+--------+--------+--------+--------+--------+\n"
     ]
    }
   ],
   "source": [
    "from prettytable import PrettyTable\n",
    "# Count unique values of last feature\n",
    "# Useful to test the computation of the feature\n",
    "from collections import Counter\n",
    "def extract_col(matrix, i):\n",
    "    col = list()\n",
    "    for columns in matrix:\n",
    "        col.append(columns[i])\n",
    "    return col\n",
    "\n",
    "table = PrettyTable(['Feature name', '# val1', '# val2', '# val3', '# val4', '# val5'])\n",
    "for i in range(len(X[0])):\n",
    "    stats = extract_col(X, i)\n",
    "    #print(features_name[i])\n",
    "    values = list()\n",
    "    for k, v in Counter(stats).most_common(5):\n",
    "        values.append(round(v, 3))\n",
    "        #values.append(str(round(k,3)) + \":\"+ str(round(v, 3)))\n",
    "        #print(str(k) + \": \" + str(v))\n",
    "    values = values + [\"\"] * (5-len(Counter(stats).most_common(5)))\n",
    "    table.add_row([features_name[i], values[0], values[1], values[2], values[3], values[4]])\n",
    "print(table)"
   ]
  },
  {
   "cell_type": "code",
   "execution_count": 49,
   "metadata": {},
   "outputs": [
    {
     "name": "stdout",
     "output_type": "stream",
     "text": [
      "+------------------------------------+--------+--------+\n",
      "|            Feature name            | # val1 | # val2 |\n",
      "+------------------------------------+--------+--------+\n",
      "|             has_image              |  5276  |   25   |\n",
      "|            has_address             |  4089  |  1212  |\n",
      "|           has_biography            |  4084  |  1217  |\n",
      "|          followers_ge_30           |  3547  |  1754  |\n",
      "|         belongs_to_a_list          |  4150  |  1151  |\n",
      "|          nb_tweets_ge_50           |  4934  |  367   |\n",
      "|           url_in_profile           |  3166  |  2135  |\n",
      "|    followers_2_times_ge_friends    |  4414  |  887   |\n",
      "|          bot_in_biography          |  5283  |   18   |\n",
      "| ratio_friends_followers_around_100 |  5067  |  234   |\n",
      "|     duplicate_profile_picture      |  5276  |   25   |\n",
      "|   ratio_friends_followers_ge_50    |  4750  |  551   |\n",
      "|    default_image_after_2_month     |  5276  |   25   |\n",
      "|           friends_ge_100           |  4679  |  622   |\n",
      "|               no_bio               |  4084  |  1217  |\n",
      "|            no_location             |  4089  |  1212  |\n",
      "|             no_tweets              |  5148  |  153   |\n",
      "+------------------------------------+--------+--------+\n"
     ]
    }
   ],
   "source": [
    "from prettytable import PrettyTable\n",
    "# Count unique values of last feature\n",
    "# Useful to test the computation of the feature\n",
    "from collections import Counter\n",
    "def extract_col(matrix, i):\n",
    "    col = list()\n",
    "    for columns in matrix:\n",
    "        col.append(columns[i])\n",
    "    return col\n",
    "\n",
    "table = PrettyTable(['Feature name', '# val1', '# val2'])#, '# val3', '# val4', '# val5'])\n",
    "for i in range(len(X[0])):\n",
    "    if i > 17 or i == 0:\n",
    "        continue\n",
    "    stats = extract_col(X, i)\n",
    "    #print(features_name[i])\n",
    "    values = list()\n",
    "    for k, v in Counter(stats).most_common(5):\n",
    "        values.append(round(v, 3))\n",
    "        #values.append(str(round(k,3)) + \":\"+ str(round(v, 3)))\n",
    "        #print(str(k) + \": \" + str(v))\n",
    "    values = values + [\"\"] * (3-len(Counter(stats).most_common(5)))\n",
    "    table.add_row([features_name[i], values[0], values[1]])#, values[2], values[3], values[4]])\n",
    "print(table)"
   ]
  },
  {
   "cell_type": "code",
   "execution_count": 60,
   "metadata": {},
   "outputs": [
    {
     "name": "stdout",
     "output_type": "stream",
     "text": [
      "+------------------------------------+--------+---------+--------+---------+\n",
      "|            Feature name            | Bot(1) | Real(1) | Bot(0) | Real(0) |\n",
      "+------------------------------------+--------+---------+--------+---------+\n",
      "|             has_image              |  3345  |   1931  |   6    |    19   |\n",
      "|            has_address             |  2776  |   1313  |  575   |   637   |\n",
      "|           has_biography            |  2278  |   1806  |  1073  |   144   |\n",
      "|          followers_ge_30           |  172   |   1582  |  3179  |   368   |\n",
      "|         belongs_to_a_list          |   99   |   1052  |  3252  |   898   |\n",
      "|          nb_tweets_ge_50           |  2998  |   1936  |  353   |    14   |\n",
      "|           url_in_profile           |  1438  |   697   |  1913  |   1253  |\n",
      "|    followers_2_times_ge_friends    |   13   |   874   |  3338  |   1076  |\n",
      "|          bot_in_biography          |   12   |    6    |  3339  |   1944  |\n",
      "| ratio_friends_followers_around_100 |  234   |    0    |  3117  |   1950  |\n",
      "|     duplicate_profile_picture      |   6    |    19   |  3345  |   1931  |\n",
      "|   ratio_friends_followers_ge_50    |  550   |    1    |  2801  |   1949  |\n",
      "|    default_image_after_2_month     |   6    |    19   |  3345  |   1931  |\n",
      "|           friends_ge_100           |  3201  |   1478  |  150   |   472   |\n",
      "|               no_bio               |  1073  |   144   |  2278  |   1806  |\n",
      "|            no_location             |  575   |   637   |  2776  |   1313  |\n",
      "|             no_tweets              |  149   |    4    |  3202  |   1946  |\n",
      "+------------------------------------+--------+---------+--------+---------+\n"
     ]
    }
   ],
   "source": [
    "# Count the # of same values by feature and by class (Bot & non-Bot)\n",
    "from prettytable import PrettyTable\n",
    "\n",
    "stats = dict()\n",
    "for i in range(len(X)):\n",
    "    _class = y[i]\n",
    "    for j in range(len(X[i])):\n",
    "        f_name = features_name[j]\n",
    "        if j > 17 or j == 0:\n",
    "            continue\n",
    "        if f_name not in stats:\n",
    "            stats[f_name] = dict()\n",
    "            stats[f_name][\"0\"] = dict()\n",
    "            stats[f_name][\"1\"] = dict()\n",
    "            stats[f_name][\"0\"][\"0\"] = 0\n",
    "            stats[f_name][\"0\"][\"1\"] = 0\n",
    "            stats[f_name][\"1\"][\"0\"] = 0\n",
    "            stats[f_name][\"1\"][\"1\"] = 0\n",
    "            \n",
    "        stats[f_name][str(X[i][j])][str(_class)] += 1 \n",
    "    \n",
    "# Print !    \n",
    "\n",
    "# class : 1 = fake\n",
    "table = PrettyTable(['Feature name', 'Bot(1)', 'Real(1)', 'Bot(0)', 'Real(0)'])#, '# val3', '# val4', '# val5'])\n",
    "for feature, v in stats.items():\n",
    "    table.add_row([feature, v[\"1\"][\"1\"], v[\"1\"][\"0\"], v[\"0\"][\"1\"], v[\"0\"][\"0\"]])\n",
    "print(table)"
   ]
  },
  {
   "cell_type": "code",
   "execution_count": null,
   "metadata": {},
   "outputs": [],
   "source": []
  },
  {
   "cell_type": "code",
   "execution_count": 64,
   "metadata": {},
   "outputs": [
    {
     "name": "stdout",
     "output_type": "stream",
     "text": [
      "[nan]\n",
      "web\n",
      "<a href=\"http://twitter.com/download/iphone\" rel=\"nofollow\">Twitter for iPhone</a>\n",
      "<a href=\"http://twitter.com/download/android\" rel=\"nofollow\">Twitter for Android</a>\n",
      "<a href=\"http://foursquare.com\" rel=\"nofollow\">foursquare</a>\n",
      "<a href=\"http://instagram.com\" rel=\"nofollow\">Instagram</a>\n",
      "<a href=\"http://app.ft.com/\" rel=\"nofollow\">FT Web App</a>\n",
      "<a href=\"http://mobile.twitter.com\" rel=\"nofollow\">Mobile Web</a>\n",
      "<a href=\"http://mobile.twitter.com\" rel=\"nofollow\">mobile web</a>\n",
      "<a href=\"http://m.twitter.com/\" rel=\"nofollow\">mobile web</a>\n",
      "<a href=\"http://mobile.twitter.com\" rel=\"nofollow\">Twitter for Android</a>\n",
      "<a href=\"https://mobile.twitter.com\" rel=\"nofollow\">Mobile Web (M5)</a>\n",
      "<a href=\"http://bluefinapps.com\" rel=\"nofollow\">RunHelper for iPhone</a>\n",
      "<a href=\"http://itunes.com/apps/shazam\" rel=\"nofollow\">Shazam on iPhone</a>\n",
      "<a href=\"http://itunes.apple.com/app/twitter/id333903271?mt=8\" rel=\"nofollow\">Twitter for iPhone</a>\n",
      "<a href=\"http://itunes.apple.com/us/app/instagram/id389801252?mt=8&uo=4\" rel=\"nofollow\">Instagram on iOS</a>\n",
      "<a href=\"http://www.osfoora.com\" rel=\"nofollow\">Osfoora for iPhone</a>\n",
      "<a href=\"http://www.nibirutech.com/mobilerss-google-reader-iphone.html\" rel=\"nofollow\">MobileRSS</a>\n",
      "<a href=\"http://seesmic.com/seesmic_mobile/iphone/\" rel=\"nofollow\">Seesmic for iPhone</a>\n",
      "<a href=\"http://twitterhelp.blogspot.com/2008/05/twitter-via-mobile-web-mtwittercom.html\" rel=\"nofollow\">mobile web</a>\n",
      "<a href=\"http://levelupstudio.com/plume\" rel=\"nofollow\">PlumeÂ forÂ Android</a>\n",
      "<a href=\"http://golauncher.goforandroid.com\" rel=\"nofollow\">GO Launcher EX</a>\n",
      "<a href=\"http://www.tweetcaster.com\" rel=\"nofollow\">TweetCaster for Android</a>\n",
      "<a href=\"https://mobile.twitter.com\" rel=\"nofollow\">Mobile Web (M2)</a>\n",
      "<a href=\"http://itunes.apple.com/app/twitvid/id317646079?mt=8\" rel=\"nofollow\">Twitvid iPhone</a>\n",
      "<a href=\"http://www.mobilepioneers.com\" rel=\"nofollow\">G-News - iPhone & iPad app</a>\n",
      "<a href=\"http://techcrunch.com/\" rel=\"nofollow\">TechCrunch Android</a>\n",
      "<a href=\"myapp://www.shazam.com\" rel=\"nofollow\">Shazam on Android</a>\n",
      "<a href=\"http://ubersocial.com\" rel=\"nofollow\">UberSocial Pro for iPhone</a>\n",
      "<a href=\"http://itunes.apple.com/us/app/tweetpic/id341402122?mt=8\" rel=\"nofollow\">Tweetpic for iPhone</a>\n",
      "<a href=\"https://chrome.google.com/webstore/detail/ikknnkomiokeodcdkknnhgjmncfiefmn\" rel=\"nofollow\">Notifier for Chrome</a>\n",
      "<a href=\"http://itunes.apple.com/us/app/qr-reader-for-iphone/id368494609?mt=8&uo=4\" rel=\"nofollow\">QR Reader for iPhone</a>\n",
      "<a href=\"http://panewebesalame.com\" rel=\"nofollow\">PWES3</a>\n",
      "<a href=\"https://twitter.com/falcon_android\" rel=\"nofollow\">FalconPro</a>\n",
      "<a href=\"https://twitter.com/falcon_android\" rel=\"nofollow\">Falcon Pro</a>\n",
      "<a href=\"http://www.boidapp.com\" rel=\"nofollow\">Boid for Android</a>\n",
      "<a href=\"http://awards.thenextweb.com\" rel=\"nofollow\">TNW Startup Awards</a>\n",
      "<a href=\"http://www.kataweb.it\" rel=\"nofollow\">Kataweb - TvZap</a>\n",
      "<a href=\"http://www.pinstagram.co\" rel=\"nofollow\">Pinstagram</a>\n",
      "<a href=\"http://www.tweetings.net/\" rel=\"nofollow\">Tweetings for  iPhone</a>\n",
      "<a href=\"http://thebestcamera.com\" rel=\"nofollow\">Best Camera on the iPhone</a>\n",
      "<a href=\"http://pages.ebay.com/mobile/iphone.html\" rel=\"nofollow\">eBay Mobile for iPhone</a>\n",
      "<a href=\"http://www.unita.it\" rel=\"nofollow\">Unita Web Application</a>\n",
      "<a href=\"https://play.google.com/store/apps/details?id=com.twitpic\" rel=\"nofollow\">Twitpic on Android</a>\n",
      "<a href=\"https://chrome.google.com/webstore/detail/kagejfgngcmkbaacpmcnbpkhmhoeccee\" rel=\"nofollow\">Silver Bird Plus</a>\n",
      "<a href=\"http://imagebakery.tv/2009/09/24/tweetmusic-iphone/\" rel=\"nofollow\">TweetMusic for iPhone</a>\n",
      "<a href=\"http://itunes.apple.com/us/app/news.me-for-iphone/id496229858?mt=8&uo=4\" rel=\"nofollow\">News.me for iPhone</a>\n",
      "<a href=\"http://twitter.com/carbonandroid\" rel=\"nofollow\">Carbon for Android</a>\n",
      "<a href=\"http://seesmic.com/app\" rel=\"nofollow\">Seesmic Web</a>\n",
      "<a href=\"https://chrome.google.com/webstore/detail/clgnogcadgloeiobhamkcoenaemofdpg\" rel=\"nofollow\">G+Tw</a>\n",
      "<a href=\"https://chrome.google.com/webstore/detail/lhdicadblnoidhgkllhdgkagmflbmbcn?hl=en-US\" rel=\"nofollow\">kwitty</a>\n",
      "<a href=\"http://mobile.photoshop.com/android/\" rel=\"nofollow\">Photoshop Express for Android</a>\n",
      "<a href=\"http://talktapp.com\" rel=\"nofollow\">TalkTapp for iPhone</a>\n",
      "<a href=\"http://www.echofon.com/\" rel=\"nofollow\">Echofon Android</a>\n",
      "<a href=\"http://www.echofon.com\" rel=\"nofollow\">Echofon  Android</a>\n",
      "<a href=\"http://www.twitvid.com\" rel=\"nofollow\">Twitvid Android</a>\n",
      "<a href=\"https://itunes.apple.com/us/app/kickstarter-for-iphone/id596961532?mt=8&uo=4\" rel=\"nofollow\">Kickstarter for iPhone</a>\n",
      "<a href=\"http://www.nanopress.it/\" rel=\"nofollow\">NanoPress iPhone</a>\n",
      "<a href=\"https://play.google.com/store/apps/details?id=org.mariotaku.twidere\" rel=\"nofollow\">Twidere for Android</a>\n",
      "<a href=\"http://www.texterity.com/iphone\" rel=\"nofollow\">Texterity Mobile Application</a>\n",
      "<a href=\"https://play.google.com/store/apps/details?id=com.imangi.templerun\" rel=\"nofollow\">Temple Run - Android</a>\n",
      "<a href=\"http://androidsampleviber.com\" rel=\"nofollow\">AndroidSampleViber</a>\n",
      "<a href=\"http://www.nibirutech.com/\" rel=\"nofollow\">MobileRSS iPhone</a>\n",
      "<a href=\"http://twitbitapp.com\" rel=\"nofollow\">Twitbit for iPhone</a>\n",
      "<a href=\"http://www.nasa.gov/iphone\" rel=\"nofollow\">NASA App</a>\n",
      "<a href=\"http://netnewswireapp.com/iphone/\" rel=\"nofollow\">NetNewsWire for iPhone</a>\n",
      "<a href=\"http://levelupstudio.com/plume\" rel=\"nofollow\">Plume for Android</a>\n",
      "<a href=\"http://ubersocial.com\" rel=\"nofollow\">UberSocial for iPhone</a>\n",
      "<a href=\"http://itunes.apple.com/us/app/el-pais-para-iphone/id301049096?mt=8&uo=4\" rel=\"nofollow\">EL PAÍS para iPhone</a>\n",
      "<a href=\"http://appworld.blackberry.com/webstore/content/58400\" rel=\"nofollow\">Kijamii by JaredCo</a>\n",
      "<a href=\"http://andysmart.org/sociable\" rel=\"nofollow\">Sociable for iPhone</a>\n",
      "<a href=\"http://tellmewhere.com/mobile\" rel=\"nofollow\">tellmewhere for iPhone</a>\n",
      "<a href=\"http://www.tgcom.mediaset.it/iphone/\" rel=\"nofollow\">TGCom</a>\n",
      "<a href=\"https://itunes.apple.com/us/app/qwiki-for-iphone/id599210280?mt=8&uo=4\" rel=\"nofollow\">Qwiki for iPhone</a>\n",
      "<a href=\"http://news.bbc.co.uk/\" rel=\"nofollow\">BBC News iPhone App</a>\n",
      "<a href=\"https://twitter.com/#!/joenrv\" rel=\"nofollow\">Falcon for Android</a>\n",
      "<a href=\"http://www.beeline-i.com\" rel=\"nofollow\">Smurfs' Village Android</a>\n",
      "<a href=\"http://www.liberation.fr/\" rel=\"nofollow\">Libération sur iPhone</a>\n",
      "<a href=\"http://itunes.apple.com/us/app/accuweather-for-iphone/id300048137?mt=8&uo=4\" rel=\"nofollow\">AccuWeather for iPhone</a>\n",
      "<a href=\"https://chrome.google.com/webstore/detail/cdoinklelehcpndgmcddkkdhibpoglnk\" rel=\"nofollow\">Bird Nest</a>\n",
      "<a href=\"http://movil.jornada.com.mx/iphone/\" rel=\"nofollow\">La Jornada Móvil</a>\n",
      "<a href=\"http://iuploader.sivola2.com/\" rel=\"nofollow\">Trendyful for iPhone</a>\n",
      "<a href=\"http://app.net/mypad-iphone\" rel=\"nofollow\">MyPad for iOS (iPhone)</a>\n",
      "<a href=\"http://mobile.photoshop.com/iphone/\" rel=\"nofollow\">Photoshop Express for iOS</a>\n",
      "<a href=\"http://www.fenrir.co.jp/iphone/apps/inkiness-ipad.html\" rel=\"nofollow\">Inkiness</a>\n",
      "<a href=\"http://itunes.apple.com/us/app/pixable-for-iphone/id428933568?mt=8&uo=4\" rel=\"nofollow\">Pixable for iPhone</a>\n",
      "<a href=\"http://www.bbc.co.uk\" rel=\"nofollow\">BBC Website</a>\n",
      "<a href=\"http://webcamtoy.com/\" rel=\"nofollow\">Webcam Toy</a>\n",
      "<a href=\"http://www.usatoday.com/iphone/\" rel=\"nofollow\">USA TODAY for iPhone</a>\n",
      "<a href=\"http://www.sportmediaset.mediaset.it/iphone/\" rel=\"nofollow\">Sport Mediaset</a>\n",
      "<a href=\"http://neatly.me\" rel=\"nofollow\">Neatly for iPhone</a>\n",
      "<a href=\"http://yfrog.com\" rel=\"nofollow\">YFrog4Android</a>\n",
      "<a href=\"http://ubersocial.com\" rel=\"nofollow\">UberSocial for Android</a>\n",
      "<a href=\"http://www.sivola.com/iSocialize.aspx\" rel=\"nofollow\">iSocialize+ for iPhone</a>\n",
      "<a href=\"http://www.smh.com.au\" rel=\"nofollow\">Sydney Morning Herald iPhone app</a>\n",
      "<a href=\"http://www.cnn.com/mobile/\" rel=\"nofollow\">CNN App for Android</a>\n",
      "<a href=\"http://www.vevo.com/iphone\" rel=\"nofollow\">VEVO iPhone</a>\n",
      "<a href=\"http://www.slices.me\" rel=\"nofollow\">Slices for Android</a>\n",
      "<a href=\"http://www.hm.com/iphone/download\" rel=\"nofollow\">H&M iPhone app</a>\n",
      "<a href=\"http://www.myspace.com\" rel=\"nofollow\">Myspace for Android</a>\n",
      "<a href=\"https://www.facebook.com/apps/application.php?id=119667238139297\" rel=\"nofollow\">Update Status for Android</a>\n",
      "<a href=\"https://tweetcaster.com\" rel=\"nofollow\">TweetCaster for Web</a>\n",
      "<a href=\"http://www.fornarina.com\" rel=\"nofollow\">Fornarina Web App</a>\n",
      "<a href=\"http://www.navigon.com/iphone\" rel=\"nofollow\">NAVIGON for iOS</a>\n",
      "<a href=\"http://itunes.apple.com/gb/app/sky-news/id316391924\" rel=\"nofollow\">Sky News for iPhone</a>\n",
      "<a href=\"http://webaxn.comviva.com:8191/dls/webaxn\" rel=\"nofollow\">WebAxn</a>\n",
      "<a href=\"https://market.android.com/details?id=com.seventeenbullets.android.island\" rel=\"nofollow\">Paradise Island for Android</a>\n",
      "<a href=\"https://market.android.com/details?id=com.seventeenbullets.android.vegas\" rel=\"nofollow\">Rock the Vegas for Android</a>\n",
      "<a href=\"http://www.humaxtvportal.com/twitter\" rel=\"nofollow\">HUMAX TV Portal for Web</a>\n",
      "<a href=\"http://twtkr.com\" rel=\"nofollow\">twtkr for Android</a>\n",
      "<a href=\"http://itunes.apple.com/us/app/pink-nation/id463630399?mt=8\" rel=\"nofollow\">PINK Nation for iPhone</a>\n"
     ]
    }
   ],
   "source": [
    "print(tweets.geo.unique())\n",
    "for n in users.name.unique():\n",
    "    if len(n) < 1:\n",
    "        print(n)\n",
    "\n",
    "for n in tweets.source.unique():\n",
    "    for src in [\"iphone\", \"android\", \"foursquare\", \"instagram\", \"web\"]:\n",
    "        if src in n.lower():\n",
    "            print(n)\n",
    "    \n",
    "    #if len(n) < 50:\n",
    "    #    print(n)\n",
    "        \n",
    "#iphone, android, foursquare, instagram and web"
   ]
  },
  {
   "cell_type": "code",
   "execution_count": 8,
   "metadata": {},
   "outputs": [
    {
     "data": {
      "text/plain": [
       "id                                      0\n",
       "name                                    0\n",
       "screen_name                             0\n",
       "statuses_count                          0\n",
       "followers_count                         0\n",
       "friends_count                           0\n",
       "favourites_count                        0\n",
       "listed_count                            0\n",
       "created_at                              0\n",
       "url                                   235\n",
       "lang                                    0\n",
       "time_zone                             101\n",
       "location                              145\n",
       "default_profile                       314\n",
       "default_profile_image                 454\n",
       "geo_enabled                           230\n",
       "profile_image_url                       0\n",
       "profile_banner_url                    249\n",
       "profile_use_background_image           26\n",
       "profile_background_image_url_https      0\n",
       "profile_text_color                      0\n",
       "profile_image_url_https                 0\n",
       "profile_sidebar_border_color            0\n",
       "profile_background_tile               367\n",
       "profile_sidebar_fill_color              0\n",
       "profile_background_image_url            0\n",
       "profile_background_color                0\n",
       "profile_link_color                      0\n",
       "utc_offset                            101\n",
       "protected                             469\n",
       "verified                              469\n",
       "description                           125\n",
       "updated                                 0\n",
       "dataset                                 0\n",
       "dtype: int64"
      ]
     },
     "execution_count": 8,
     "metadata": {},
     "output_type": "execute_result"
    }
   ],
   "source": [
    "users.isnull().sum()"
   ]
  }
 ],
 "metadata": {
  "kernelspec": {
   "display_name": "Python 3",
   "language": "python",
   "name": "python3"
  },
  "language_info": {
   "codemirror_mode": {
    "name": "ipython",
    "version": 3
   },
   "file_extension": ".py",
   "mimetype": "text/x-python",
   "name": "python",
   "nbconvert_exporter": "python",
   "pygments_lexer": "ipython3",
   "version": "3.6.3"
  }
 },
 "nbformat": 4,
 "nbformat_minor": 2
}
